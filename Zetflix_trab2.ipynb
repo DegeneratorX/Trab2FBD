{
 "cells": [
  {
   "cell_type": "markdown",
   "id": "eight-tucson",
   "metadata": {},
   "source": [
    "### Conexão com banco de dados"
   ]
  },
  {
   "cell_type": "code",
   "execution_count": 88,
   "id": "injured-actress",
   "metadata": {},
   "outputs": [
    {
     "name": "stdout",
     "output_type": "stream",
     "text": [
      "Conexão efetuada com sucesso.\n"
     ]
    }
   ],
   "source": [
    "import psycopg2\n",
    "\n",
    "try:\n",
    "    conn = psycopg2.connect(dbname=\"zetflix_384338_422743\", user=\"aluno\", password=\"Ck0114\", host=\"200.129.44.242\")\n",
    "    cursor = conn.cursor()\n",
    "    print(\"Conexão efetuada com sucesso.\")\n",
    "except (Exception, Error) as erro:\n",
    "    print(\"Falha ao conectar-se com o banco de dados.\")\n",
    "    print(erro)"
   ]
  },
  {
   "cell_type": "markdown",
   "id": "greek-ivory",
   "metadata": {},
   "source": [
    "### Scripts de criação das tabelas do Zetflix"
   ]
  },
  {
   "cell_type": "code",
   "execution_count": 89,
   "id": "overall-accommodation",
   "metadata": {},
   "outputs": [],
   "source": [
    "# tabela usuario\n",
    "cursor.execute(\"\"\"CREATE TABLE usuario (\n",
    "                   id_usuario INTEGER,\n",
    "                   nome_usuario VARCHAR(50),\n",
    "                   email_usuario VARCHAR(50),\n",
    "                   CONSTRAINT pk_usuario PRIMARY KEY(id_usuario));\"\"\")\n",
    "conn.commit()"
   ]
  },
  {
   "cell_type": "code",
   "execution_count": 90,
   "id": "laden-receiver",
   "metadata": {},
   "outputs": [],
   "source": [
    "# tabela filme\n",
    "cursor.execute(\"\"\"CREATE TABLE filme (\n",
    "                   id_filme INTEGER,\n",
    "                   titulo_filme VARCHAR(100) UNIQUE,\n",
    "                   sinopse_filme VARCHAR(150),\n",
    "                   duracao_filme INTEGER CHECK (duracao_filme >= 10 AND duracao_filme <= 225),\n",
    "                   data_lancamento DATE CHECK (data_lancamento >= '2000-01-01' AND data_lancamento <= '2020-12-31'),\n",
    "                   id_diretor INTEGER,\n",
    "                   id_produtora INTEGER,\n",
    "                   id_categoria INTEGER,\n",
    "                   CONSTRAINT pk_filme PRIMARY KEY(id_filme));\"\"\")\n",
    "conn.commit()"
   ]
  },
  {
   "cell_type": "code",
   "execution_count": 91,
   "id": "second-speaker",
   "metadata": {},
   "outputs": [],
   "source": [
    "# tabela diretor\n",
    "cursor.execute(\"\"\"CREATE TABLE diretor (\n",
    "                   id_diretor INTEGER,\n",
    "                   nome_diretor VARCHAR(30),\n",
    "                   data_nasc DATE,\n",
    "                   data_morte DATE DEFAULT NULL,\n",
    "                   CONSTRAINT pk_diretor PRIMARY KEY(id_diretor));\"\"\")\n",
    "conn.commit()"
   ]
  },
  {
   "cell_type": "code",
   "execution_count": 92,
   "id": "short-routine",
   "metadata": {},
   "outputs": [],
   "source": [
    "# tabela ator\n",
    "cursor.execute(\"\"\"CREATE TABLE ator (\n",
    "                   id_ator INTEGER,\n",
    "                   nome_ator VARCHAR(30),\n",
    "                   data_nasc DATE,\n",
    "                   data_morte DATE DEFAULT NULL,\n",
    "                   CONSTRAINT pk_ator PRIMARY KEY(id_ator));\"\"\")\n",
    "conn.commit()"
   ]
  },
  {
   "cell_type": "code",
   "execution_count": 93,
   "id": "bridal-optics",
   "metadata": {},
   "outputs": [],
   "source": [
    "# tabela produtora\n",
    "cursor.execute(\"\"\"CREATE TABLE produtora (\n",
    "                   id_prod INTEGER,\n",
    "                   nome_prod VARCHAR(50) UNIQUE,\n",
    "                   site_prod VARCHAR(50),\n",
    "                   pais VARCHAR(10),\n",
    "                   cidade VARCHAR(15),\n",
    "                   rua VARCHAR(15),\n",
    "                   numero INTEGER,\n",
    "                   CONSTRAINT pk_produtora PRIMARY KEY(id_prod));\"\"\")\n",
    "conn.commit()"
   ]
  },
  {
   "cell_type": "code",
   "execution_count": 94,
   "id": "placed-isolation",
   "metadata": {},
   "outputs": [],
   "source": [
    "# tabela serie\n",
    "cursor.execute(\"\"\"CREATE TABLE serie (\n",
    "                   id_serie INTEGER,\n",
    "                   titulo_serie VARCHAR(100) UNIQUE,\n",
    "                   desc_filme VARCHAR(150),\n",
    "                   qtd_temp INTEGER CHECK (qtd_temp <= 31),\n",
    "                   id_diretor INTEGER,\n",
    "                   id_produtora INTEGER,\n",
    "                   CONSTRAINT pk_serie PRIMARY KEY(id_serie));\"\"\")\n",
    "conn.commit()"
   ]
  },
  {
   "cell_type": "code",
   "execution_count": 95,
   "id": "combined-option",
   "metadata": {},
   "outputs": [],
   "source": [
    "# tabela temporada\n",
    "cursor.execute(\"\"\"CREATE TABLE temporada (\n",
    "                   id_temp INTEGER,\n",
    "                   desc_temp VARCHAR(150),\n",
    "                   qtd_ep INTEGER CHECK (qtd_ep >= 6 AND qtd_ep <= 30),\n",
    "                   CONSTRAINT pk_temporada PRIMARY KEY(id_temp));\"\"\")\n",
    "conn.commit()"
   ]
  },
  {
   "cell_type": "code",
   "execution_count": 112,
   "id": "stylish-bryan",
   "metadata": {},
   "outputs": [],
   "source": [
    "# tabela episodio\n",
    "cursor.execute(\"\"\"CREATE TABLE episodio (\n",
    "                   id_ep INTEGER,\n",
    "                   titulo_ep VARCHAR(100),\n",
    "                   desc_temp VARCHAR(150),\n",
    "                   duracao_ep INTEGER CHECK (duracao_ep >= 15 AND duracao_ep <= 90),\n",
    "                   id_temp INTEGER,\n",
    "                   CONSTRAINT pk_episodio PRIMARY KEY(id_ep));\"\"\")\n",
    "conn.commit()"
   ]
  },
  {
   "cell_type": "code",
   "execution_count": 97,
   "id": "continuing-magic",
   "metadata": {},
   "outputs": [],
   "source": [
    "# tabela categoria\n",
    "cursor.execute(\"\"\"CREATE TABLE categoria (\n",
    "                   id_categoria INTEGER,\n",
    "                   desc_categoria VARCHAR(150),\n",
    "                   tipo_categoria VARCHAR(15),\n",
    "                   CONSTRAINT pk_categoria PRIMARY KEY(id_categoria));\"\"\")\n",
    "conn.commit()"
   ]
  },
  {
   "cell_type": "code",
   "execution_count": 98,
   "id": "diagnostic-requirement",
   "metadata": {},
   "outputs": [],
   "source": [
    "# tabela avalia_filme\n",
    "cursor.execute(\"\"\"CREATE TABLE avalia_filme (\n",
    "                   id_avaliacao INTEGER,\n",
    "                   id_usuario INTEGER,\n",
    "                   id_filme INTEGER,\n",
    "                   nota INTEGER CHECK (nota >= 0 AND nota <= 5),\n",
    "                   CONSTRAINT pk_avalia_filme PRIMARY KEY(id_avaliacao));\"\"\")\n",
    "conn.commit()"
   ]
  },
  {
   "cell_type": "code",
   "execution_count": 109,
   "id": "thrown-sugar",
   "metadata": {},
   "outputs": [],
   "source": [
    "# tabela avalia_serie\n",
    "cursor.execute(\"\"\"CREATE TABLE avalia_serie (\n",
    "                   id_avaliacao INTEGER,\n",
    "                   id_usuario INTEGER,\n",
    "                   id_serie INTEGER,\n",
    "                   nota INTEGER CHECK (nota >= 0 AND nota <= 5),\n",
    "                   CONSTRAINT pk_avalia_serie PRIMARY KEY(id_avaliacao));\"\"\")\n",
    "conn.commit()"
   ]
  },
  {
   "cell_type": "code",
   "execution_count": 100,
   "id": "intellectual-dining",
   "metadata": {},
   "outputs": [],
   "source": [
    "# tabela estrela_filme\n",
    "cursor.execute(\"\"\"CREATE TABLE estrela_filme (\n",
    "                   id_filme INTEGER,\n",
    "                   id_ator INTEGER);\"\"\")\n",
    "conn.commit()"
   ]
  },
  {
   "cell_type": "code",
   "execution_count": 60,
   "id": "sensitive-gazette",
   "metadata": {},
   "outputs": [],
   "source": [
    "# tabela estrela_ep\n",
    "cursor.execute(\"\"\"CREATE TABLE estrela_ep (\n",
    "                   id_ep INTEGER,\n",
    "                   id_ator INTEGER);\"\"\")\n",
    "conn.commit()"
   ]
  },
  {
   "cell_type": "code",
   "execution_count": 102,
   "id": "public-attribute",
   "metadata": {},
   "outputs": [],
   "source": [
    "# tabela tel_produtora\n",
    "cursor.execute(\"\"\"CREATE TABLE tel_produtora (\n",
    "                   id_tel INTEGER,\n",
    "                   id_prod INTEGER,\n",
    "                   telefone CHAR(8));\"\"\")\n",
    "conn.commit()"
   ]
  },
  {
   "cell_type": "markdown",
   "id": "becoming-boating",
   "metadata": {},
   "source": [
    "### Chaves estrangeiras"
   ]
  },
  {
   "cell_type": "code",
   "execution_count": 105,
   "id": "aggregate-question",
   "metadata": {},
   "outputs": [],
   "source": [
    "# chave estrangeira para diretor do filme, produtora do filme e categoria do filme\n",
    "cursor.execute(\"\"\"ALTER TABLE filme\n",
    "                  ADD CONSTRAINT fk_diretor_filme \n",
    "                  FOREIGN KEY (id_diretor) REFERENCES diretor(id_diretor),\n",
    "                  ADD CONSTRAINT fk_produtora_filme \n",
    "                  FOREIGN KEY (id_produtora) REFERENCES produtora(id_prod),\n",
    "                  ADD CONSTRAINT fk_categoria_filme \n",
    "                  FOREIGN KEY (id_categoria) REFERENCES categoria(id_categoria);\"\"\")\n",
    "conn.commit()"
   ]
  },
  {
   "cell_type": "code",
   "execution_count": 106,
   "id": "designed-underground",
   "metadata": {},
   "outputs": [],
   "source": [
    "# chave estrangeira avalia_filme\n",
    "cursor.execute(\"\"\"ALTER TABLE avalia_filme\n",
    "                  ADD CONSTRAINT fk_usuario_avfilme \n",
    "                  FOREIGN KEY (id_usuario) REFERENCES usuario(id_usuario),\n",
    "                  ADD CONSTRAINT fk_filme_avfilme \n",
    "                  FOREIGN KEY (id_filme) REFERENCES filme(id_filme);\"\"\")\n",
    "conn.commit()"
   ]
  },
  {
   "cell_type": "code",
   "execution_count": 110,
   "id": "polyphonic-complex",
   "metadata": {},
   "outputs": [],
   "source": [
    "# chave estrangeira avalia_serie\n",
    "cursor.execute(\"\"\"ALTER TABLE avalia_serie\n",
    "                  ADD CONSTRAINT fk_usuario_avserie\n",
    "                  FOREIGN KEY (id_usuario) REFERENCES usuario(id_usuario),\n",
    "                  ADD CONSTRAINT fk_filme_avserie \n",
    "                  FOREIGN KEY (id_serie) REFERENCES serie(id_serie);\"\"\")\n",
    "conn.commit()"
   ]
  },
  {
   "cell_type": "code",
   "execution_count": 111,
   "id": "controlled-asbestos",
   "metadata": {},
   "outputs": [],
   "source": [
    "# chave estrangeiras de serie\n",
    "cursor.execute(\"\"\"ALTER TABLE serie\n",
    "                  ADD CONSTRAINT fk_diretor_serie\n",
    "                  FOREIGN KEY (id_diretor) REFERENCES diretor(id_diretor),\n",
    "                  ADD CONSTRAINT fk_produtora_serie \n",
    "                  FOREIGN KEY (id_produtora) REFERENCES produtora(id_prod);\"\"\")\n",
    "conn.commit()"
   ]
  },
  {
   "cell_type": "code",
   "execution_count": 113,
   "id": "signal-recovery",
   "metadata": {},
   "outputs": [],
   "source": [
    "# chaves estrangeiras de episodio\n",
    "cursor.execute(\"\"\"ALTER TABLE episodio\n",
    "                  ADD CONSTRAINT fk_temporada_ep\n",
    "                  FOREIGN KEY (id_temp) REFERENCES temporada(id_temp);\"\"\")\n",
    "conn.commit()"
   ]
  },
  {
   "cell_type": "code",
   "execution_count": 114,
   "id": "fuzzy-shooting",
   "metadata": {},
   "outputs": [],
   "source": [
    "# chave estrangeira de tel_produtora\n",
    "cursor.execute(\"\"\"ALTER TABLE tel_produtora\n",
    "                  ADD CONSTRAINT fk_produtora_telprod\n",
    "                  FOREIGN KEY (id_prod) REFERENCES produtora(id_prod);\"\"\")\n",
    "conn.commit()"
   ]
  },
  {
   "cell_type": "code",
   "execution_count": 115,
   "id": "departmental-breakdown",
   "metadata": {},
   "outputs": [],
   "source": [
    "# chave estrangeiras de estrela_filme\n",
    "cursor.execute(\"\"\"ALTER TABLE estrela_filme\n",
    "                  ADD CONSTRAINT fk_filme_estrela\n",
    "                  FOREIGN KEY (id_filme) REFERENCES filme(id_filme),\n",
    "                  ADD CONSTRAINT fk_ator_estrela\n",
    "                  FOREIGN KEY (id_ator) REFERENCES ator(id_ator);\"\"\")\n",
    "conn.commit()"
   ]
  },
  {
   "cell_type": "code",
   "execution_count": 61,
   "id": "spatial-temple",
   "metadata": {},
   "outputs": [],
   "source": [
    "# chave estrangeiras de estrela_ep\n",
    "cursor.execute(\"\"\"ALTER TABLE estrela_ep\n",
    "                  ADD CONSTRAINT fk_ep_estrela\n",
    "                  FOREIGN KEY (id_ep) REFERENCES episodio(id_ep),\n",
    "                  ADD CONSTRAINT fk_ator_estrela\n",
    "                  FOREIGN KEY (id_ator) REFERENCES ator(id_ator);\"\"\")\n",
    "conn.commit()"
   ]
  },
  {
   "cell_type": "markdown",
   "id": "unknown-thread",
   "metadata": {},
   "source": [
    "### Triggers"
   ]
  },
  {
   "cell_type": "markdown",
   "id": "previous-benefit",
   "metadata": {},
   "source": [
    "#### Tabela filme"
   ]
  },
  {
   "cell_type": "code",
   "execution_count": 23,
   "id": "fifty-cleaner",
   "metadata": {},
   "outputs": [],
   "source": [
    "# a função\n",
    "cursor.execute(\"\"\"CREATE OR REPLACE FUNCTION filmeConsis() RETURNS TRIGGER AS $tgg_filme$\n",
    "                    BEGIN\n",
    "                        IF (TG_OP = 'INSERT' OR TG_OP = 'UPDATE') THEN\n",
    "                            IF NOT EXISTS (SELECT FROM diretor D WHERE D.id_diretor = NEW.id_diretor) THEN\n",
    "                                RAISE EXCEPTION 'Erro de consistência: diretor não encontrado.';\n",
    "                            END IF;\n",
    "                            IF NOT EXISTS (SELECT FROM produtora P WHERE P.id_prod = NEW.id_produtora) THEN\n",
    "                                RAISE EXCEPTION 'Erro de consistência: produtora não encontrada.';\n",
    "                            END IF;\n",
    "                            IF NOT EXISTS (SELECT FROM categoria C WHERE C.id_categoria = NEW.id_categoria) THEN\n",
    "                                RAISE EXCEPTION 'Erro de consistência: categoria não encontrada.' ;\n",
    "                            END IF;\n",
    "                            RETURN NEW;\n",
    "                        ELSIF (TG_OP = 'DELETE') THEN\n",
    "                            IF EXISTS (SELECT FROM estrela_filme EF WHERE EF.id_filme = OLD.id_filme) THEN\n",
    "                                RAISE EXCEPTION 'Erro de consistência: o registro é referenciado na tabela estrela_filme.';\n",
    "                            END IF;\n",
    "                            IF EXISTS (SELECT FROM avalia_filme AF WHERE AF.id_filme = OLD.id_filme) THEN\n",
    "                                RAISE EXCEPTION 'Erro de consistência: o registro é referenciado na tabela avalia_filme.';\n",
    "                            END IF;\n",
    "                            RETURN OLD;\n",
    "                        END IF;\n",
    "                    END;\n",
    "                $tgg_filme$ language plpgsql;\"\"\")\n",
    "conn.commit()"
   ]
  },
  {
   "cell_type": "code",
   "execution_count": 27,
   "id": "marine-windsor",
   "metadata": {},
   "outputs": [],
   "source": [
    "# a trigger\n",
    "cursor.execute(\"\"\"CREATE TRIGGER tgg_filme \n",
    "                  BEFORE INSERT OR UPDATE OR DELETE ON filme\n",
    "                    FOR EACH ROW EXECUTE PROCEDURE filmeConsis();\"\"\")\n",
    "conn.commit()"
   ]
  },
  {
   "cell_type": "markdown",
   "id": "primary-multiple",
   "metadata": {},
   "source": [
    "#### Tabela série"
   ]
  },
  {
   "cell_type": "code",
   "execution_count": 66,
   "id": "maritime-couple",
   "metadata": {},
   "outputs": [],
   "source": [
    "# a função\n",
    "cursor.execute(\"\"\"CREATE OR REPLACE FUNCTION serieConsis() RETURNS TRIGGER AS $tgg_serie$\n",
    "                    BEGIN\n",
    "                        IF (TG_OP = 'INSERT' OR TG_OP = 'UPDATE') THEN\n",
    "                            IF NOT EXISTS (SELECT FROM diretor D WHERE D.id_diretor = NEW.id_diretor) THEN\n",
    "                                RAISE EXCEPTION 'Erro de consistência: diretor não encontrado.';\n",
    "                            END IF;\n",
    "                            IF NOT EXISTS (SELECT FROM produtora P WHERE P.id_prod = NEW.id_produtora) THEN\n",
    "                                RAISE EXCEPTION 'Erro de consistência: produtora não encontrada.';\n",
    "                            END IF;\n",
    "                            RETURN NEW;\n",
    "                        ELSIF (TG_OP = 'DELETE') THEN\n",
    "                            IF EXISTS (SELECT FROM avalia_serie ASerie WHERE ASerie.id_serie = OLD.id_serie) THEN\n",
    "                                RAISE EXCEPTION 'Erro de consistência: o registro é referenciado na tabela avalia_serie.';\n",
    "                            END IF;\n",
    "                            RETURN OLD;\n",
    "                        END IF;\n",
    "                    END;\n",
    "                $tgg_serie$ language plpgsql;\"\"\")\n",
    "conn.commit()"
   ]
  },
  {
   "cell_type": "code",
   "execution_count": 67,
   "id": "entitled-collaboration",
   "metadata": {},
   "outputs": [],
   "source": [
    "# a trigger\n",
    "cursor.execute(\"\"\"CREATE TRIGGER tgg_serie \n",
    "                  BEFORE INSERT OR UPDATE OR DELETE ON serie\n",
    "                    FOR EACH ROW EXECUTE PROCEDURE serieConsis();\"\"\")\n",
    "conn.commit()"
   ]
  },
  {
   "cell_type": "markdown",
   "id": "bright-deficit",
   "metadata": {},
   "source": [
    "#### Tabela episodio"
   ]
  },
  {
   "cell_type": "code",
   "execution_count": 62,
   "id": "understood-charge",
   "metadata": {},
   "outputs": [],
   "source": [
    "# a função\n",
    "cursor.execute(\"\"\"CREATE OR REPLACE FUNCTION epConsis() RETURNS TRIGGER AS $tgg_ep$\n",
    "                    BEGIN\n",
    "                        IF (TG_OP = 'INSERT' OR TG_OP = 'UPDATE') THEN\n",
    "                            IF NOT EXISTS (SELECT FROM temporada T WHERE T.id_temp = NEW.id_temp) THEN\n",
    "                                RAISE EXCEPTION 'Erro de consistência: temporada não encontrada.';\n",
    "                            END IF;\n",
    "                            RETURN NEW;\n",
    "                        ELSIF (TG_OP = 'DELETE') THEN\n",
    "                            IF EXISTS (SELECT FROM estrela_ep EstrE WHERE EstrE.id_ep = OLD.id_ep) THEN\n",
    "                                RAISE EXCEPTION 'Erro de consistência: o registro é referenciado na tabela estrela_ep.';\n",
    "                            END IF;\n",
    "                            RETURN OLD;\n",
    "                        END IF;\n",
    "                    END;\n",
    "                $tgg_ep$ language plpgsql;\"\"\")\n",
    "conn.commit()"
   ]
  },
  {
   "cell_type": "code",
   "execution_count": 63,
   "id": "passing-establishment",
   "metadata": {},
   "outputs": [],
   "source": [
    "# a trigger\n",
    "cursor.execute(\"\"\"CREATE TRIGGER tgg_ep \n",
    "                  BEFORE INSERT OR UPDATE OR DELETE ON episodio\n",
    "                    FOR EACH ROW EXECUTE PROCEDURE epConsis();\"\"\")\n",
    "conn.commit()"
   ]
  },
  {
   "cell_type": "markdown",
   "id": "incorrect-sport",
   "metadata": {},
   "source": [
    "#### Tabela avalia_filme"
   ]
  },
  {
   "cell_type": "code",
   "execution_count": 47,
   "id": "auburn-glory",
   "metadata": {},
   "outputs": [],
   "source": [
    "# a função\n",
    "cursor.execute(\"\"\"CREATE OR REPLACE FUNCTION avfilmeConsis() RETURNS TRIGGER AS $tgg_avalia_filme$\n",
    "                    BEGIN\n",
    "                        IF (TG_OP = 'INSERT' OR TG_OP = 'UPDATE') THEN\n",
    "                            IF NOT EXISTS (SELECT FROM filme F WHERE F.id_filme = NEW.id_filme) THEN\n",
    "                                RAISE EXCEPTION 'Erro de consistência: filme não encontrado.';\n",
    "                            END IF;\n",
    "                            IF NOT EXISTS (SELECT FROM usuario U WHERE U.id_usuario = NEW.id_usuario) THEN\n",
    "                                RAISE EXCEPTION 'Erro de consistência: usuario não encontrado.';\n",
    "                            END IF;\n",
    "                            RETURN NEW;\n",
    "                        END IF;\n",
    "                    END;\n",
    "                $tgg_avalia_filme$ language plpgsql;\"\"\")\n",
    "conn.commit()"
   ]
  },
  {
   "cell_type": "code",
   "execution_count": 48,
   "id": "efficient-boxing",
   "metadata": {},
   "outputs": [],
   "source": [
    "# a trigger\n",
    "cursor.execute(\"\"\"CREATE TRIGGER tgg_avalia_filme \n",
    "                  BEFORE INSERT OR UPDATE OR DELETE ON avalia_filme\n",
    "                    FOR EACH ROW EXECUTE PROCEDURE avfilmeConsis();\"\"\")\n",
    "conn.commit()"
   ]
  },
  {
   "cell_type": "markdown",
   "id": "solid-gender",
   "metadata": {},
   "source": [
    "#### Tabela avalia_serie"
   ]
  },
  {
   "cell_type": "code",
   "execution_count": 49,
   "id": "smooth-treasure",
   "metadata": {},
   "outputs": [],
   "source": [
    "# a função\n",
    "cursor.execute(\"\"\"CREATE OR REPLACE FUNCTION avserieConsis() RETURNS TRIGGER AS $tgg_avalia_serie$\n",
    "                    BEGIN\n",
    "                        IF (TG_OP = 'INSERT' OR TG_OP = 'UPDATE') THEN\n",
    "                            IF NOT EXISTS (SELECT FROM serie S WHERE S.id_serie = NEW.id_serie) THEN\n",
    "                                RAISE EXCEPTION 'Erro de consistência: serie não encontrada.';\n",
    "                            END IF;\n",
    "                            IF NOT EXISTS (SELECT FROM usuario U WHERE U.id_usuario = NEW.id_usuario) THEN\n",
    "                                RAISE EXCEPTION 'Erro de consistência: usuario não encontrado.';\n",
    "                            END IF;\n",
    "                            RETURN NEW;\n",
    "                        END IF;\n",
    "                    END;\n",
    "                $tgg_avalia_serie$ language plpgsql;\"\"\")\n",
    "conn.commit()"
   ]
  },
  {
   "cell_type": "code",
   "execution_count": 50,
   "id": "exposed-marble",
   "metadata": {},
   "outputs": [],
   "source": [
    "# a trigger\n",
    "cursor.execute(\"\"\"CREATE TRIGGER tgg_avalia_serie \n",
    "                  BEFORE INSERT OR UPDATE OR DELETE ON avalia_serie\n",
    "                    FOR EACH ROW EXECUTE PROCEDURE avserieConsis();\"\"\")\n",
    "conn.commit()"
   ]
  },
  {
   "cell_type": "markdown",
   "id": "through-reputation",
   "metadata": {},
   "source": [
    "#### Tabela estrela_filme"
   ]
  },
  {
   "cell_type": "code",
   "execution_count": 51,
   "id": "quantitative-sandwich",
   "metadata": {},
   "outputs": [],
   "source": [
    "# a função\n",
    "cursor.execute(\"\"\"CREATE OR REPLACE FUNCTION estfilmeConsis() RETURNS TRIGGER AS $tgg_estrela_filme$\n",
    "                    BEGIN\n",
    "                        IF (TG_OP = 'INSERT' OR TG_OP = 'UPDATE') THEN\n",
    "                            IF NOT EXISTS (SELECT FROM filme F WHERE F.id_filme = NEW.id_filme) THEN\n",
    "                                RAISE EXCEPTION 'Erro de consistência: serie não encontrada.';\n",
    "                            END IF;\n",
    "                            IF NOT EXISTS (SELECT FROM ator A WHERE A.id_ator = NEW.id_ator) THEN\n",
    "                                RAISE EXCEPTION 'Erro de consistência: ator não encontrado.';\n",
    "                            END IF;\n",
    "                            RETURN NEW;\n",
    "                        END IF;\n",
    "                    END;\n",
    "                $tgg_estrela_filme$ language plpgsql;\"\"\")\n",
    "conn.commit()"
   ]
  },
  {
   "cell_type": "code",
   "execution_count": 52,
   "id": "hazardous-preview",
   "metadata": {},
   "outputs": [],
   "source": [
    "# a trigger\n",
    "cursor.execute(\"\"\"CREATE TRIGGER tgg_estrela_filme \n",
    "                  BEFORE INSERT OR UPDATE OR DELETE ON estrela_filme\n",
    "                    FOR EACH ROW EXECUTE PROCEDURE estfilmeConsis();\"\"\")\n",
    "conn.commit()"
   ]
  },
  {
   "cell_type": "markdown",
   "id": "heated-relationship",
   "metadata": {},
   "source": [
    "#### Tabela estrela_ep"
   ]
  },
  {
   "cell_type": "code",
   "execution_count": 64,
   "id": "collected-general",
   "metadata": {},
   "outputs": [],
   "source": [
    "# a função\n",
    "cursor.execute(\"\"\"CREATE OR REPLACE FUNCTION estepisodioConsis() RETURNS TRIGGER AS $tgg_estrela_ep$\n",
    "                    BEGIN\n",
    "                        IF (TG_OP = 'INSERT' OR TG_OP = 'UPDATE') THEN\n",
    "                            IF NOT EXISTS (SELECT FROM episodio EP WHERE EP.id_ep = NEW.id_ep) THEN\n",
    "                                RAISE EXCEPTION 'Erro de consistência: episodio não encontrado.';\n",
    "                            END IF;\n",
    "                            IF NOT EXISTS (SELECT FROM ator A WHERE A.id_ator = NEW.id_ator) THEN\n",
    "                                RAISE EXCEPTION 'Erro de consistência: ator não encontrado.';\n",
    "                            END IF;\n",
    "                            RETURN NEW;\n",
    "                        END IF;\n",
    "                    END;\n",
    "                $tgg_estrela_ep$ language plpgsql;\"\"\")\n",
    "conn.commit()"
   ]
  },
  {
   "cell_type": "code",
   "execution_count": 65,
   "id": "freelance-calibration",
   "metadata": {},
   "outputs": [],
   "source": [
    "# a trigger\n",
    "cursor.execute(\"\"\"CREATE TRIGGER tgg_estrela_ep \n",
    "                  BEFORE INSERT OR UPDATE OR DELETE ON estrela_ep\n",
    "                    FOR EACH ROW EXECUTE PROCEDURE estepisodioConsis();\"\"\")\n",
    "conn.commit()"
   ]
  },
  {
   "cell_type": "markdown",
   "id": "comparative-thread",
   "metadata": {},
   "source": [
    "#### Tabela tel_produtora"
   ]
  },
  {
   "cell_type": "code",
   "execution_count": 68,
   "id": "civic-fishing",
   "metadata": {},
   "outputs": [],
   "source": [
    "# a função\n",
    "cursor.execute(\"\"\"CREATE OR REPLACE FUNCTION telprodConsis() RETURNS TRIGGER AS $tgg_tel_produtora$\n",
    "                    BEGIN\n",
    "                        IF (TG_OP = 'INSERT' OR TG_OP = 'UPDATE') THEN\n",
    "                            IF NOT EXISTS (SELECT FROM produtora P WHERE P.id_prod = NEW.id_prod) THEN\n",
    "                                RAISE EXCEPTION 'Erro de consistência: produtora não encontrada.';\n",
    "                            END IF;\n",
    "                            RETURN NEW;\n",
    "                        END IF;\n",
    "                    END;\n",
    "                $tgg_tel_produtora$ language plpgsql;\"\"\")\n",
    "conn.commit()"
   ]
  },
  {
   "cell_type": "code",
   "execution_count": 69,
   "id": "traditional-house",
   "metadata": {},
   "outputs": [],
   "source": [
    "# a trigger\n",
    "cursor.execute(\"\"\"CREATE TRIGGER tgg_tel_produtora \n",
    "                  BEFORE INSERT OR UPDATE OR DELETE ON tel_produtora\n",
    "                    FOR EACH ROW EXECUTE PROCEDURE telprodConsis();\"\"\")\n",
    "conn.commit()"
   ]
  },
  {
   "cell_type": "markdown",
   "id": "weekly-natural",
   "metadata": {},
   "source": [
    "### Inserções"
   ]
  },
  {
   "cell_type": "code",
   "execution_count": 71,
   "id": "judicial-neighborhood",
   "metadata": {},
   "outputs": [],
   "source": [
    "#importa csvs locais\n",
    "import csv"
   ]
  },
  {
   "cell_type": "code",
   "execution_count": 89,
   "id": "designing-provision",
   "metadata": {},
   "outputs": [],
   "source": [
    "# inserindo em diretor\n",
    "with open('csv/diretor.csv', 'r') as diretores: \n",
    "    ler_diretores = csv.reader(diretores)\n",
    "    for line in ler_diretores:\n",
    "        cursor.execute(\"INSERT INTO diretor(id_diretor, nome_diretor, data_nasc, data_morte) VALUES (%s, %s, %s, %s);\", (line[0], line[1], line[2], (None if line[3] == \"\" else line[3])))\n",
    "conn.commit()"
   ]
  },
  {
   "cell_type": "code",
   "execution_count": 90,
   "id": "lined-obligation",
   "metadata": {},
   "outputs": [],
   "source": [
    "# inserindo em ator\n",
    "with open('csv/ator.csv', 'r') as atores: \n",
    "    ler_atores = csv.reader(atores)\n",
    "    for line in ler_atores:\n",
    "        cursor.execute(\"INSERT INTO ator(id_ator, nome_ator, data_nasc, data_morte) VALUES (%s, %s, %s, %s);\", (line[0], line[1], line[2], (None if line[3] == \"\" else line[3])))\n",
    "conn.commit()"
   ]
  },
  {
   "cell_type": "markdown",
   "id": "diverse-advocacy",
   "metadata": {},
   "source": [
    "### Encerrando a conexão com o banco"
   ]
  },
  {
   "cell_type": "code",
   "execution_count": null,
   "id": "general-tracy",
   "metadata": {},
   "outputs": [],
   "source": [
    "cursor.close()\n",
    "conn.close()"
   ]
  }
 ],
 "metadata": {
  "kernelspec": {
   "display_name": "Python 3.10.6 64-bit",
   "language": "python",
   "name": "python3"
  },
  "language_info": {
   "codemirror_mode": {
    "name": "ipython",
    "version": 3
   },
   "file_extension": ".py",
   "mimetype": "text/x-python",
   "name": "python",
   "nbconvert_exporter": "python",
   "pygments_lexer": "ipython3",
   "version": "3.10.6"
  },
  "vscode": {
   "interpreter": {
    "hash": "916dbcbb3f70747c44a77c7bcd40155683ae19c65e1c03b4aa3499c5328201f1"
   }
  }
 },
 "nbformat": 4,
 "nbformat_minor": 5
}
